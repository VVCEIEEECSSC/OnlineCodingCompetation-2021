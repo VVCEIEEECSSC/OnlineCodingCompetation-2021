{
 "cells": [
  {
   "cell_type": "code",
   "execution_count": 41,
   "metadata": {},
   "outputs": [],
   "source": [
    "import numpy as np \n",
    "a=np.arange(64).reshape(8,8)"
   ]
  },
  {
   "cell_type": "code",
   "execution_count": 42,
   "metadata": {},
   "outputs": [
    {
     "data": {
      "text/plain": [
       "array([[ 0,  1,  2,  3,  4,  5,  6,  7],\n",
       "       [ 8,  9, 10, 11, 12, 13, 14, 15],\n",
       "       [16, 17, 18, 19, 20, 21, 22, 23],\n",
       "       [24, 25, 26, 27, 28, 29, 30, 31],\n",
       "       [32, 33, 34, 35, 36, 37, 38, 39],\n",
       "       [40, 41, 42, 43, 44, 45, 46, 47],\n",
       "       [48, 49, 50, 51, 52, 53, 54, 55],\n",
       "       [56, 57, 58, 59, 60, 61, 62, 63]])"
      ]
     },
     "execution_count": 42,
     "metadata": {},
     "output_type": "execute_result"
    }
   ],
   "source": [
    "a"
   ]
  },
  {
   "cell_type": "code",
   "execution_count": 43,
   "metadata": {},
   "outputs": [
    {
     "data": {
      "text/plain": [
       "array([0, 1, 2, 3, 4, 5, 6, 7])"
      ]
     },
     "execution_count": 43,
     "metadata": {},
     "output_type": "execute_result"
    }
   ],
   "source": [
    "a[0]"
   ]
  },
  {
   "cell_type": "code",
   "execution_count": 76,
   "metadata": {},
   "outputs": [],
   "source": [
    "b=[]\n",
    "count=0"
   ]
  },
  {
   "cell_type": "code",
   "execution_count": 77,
   "metadata": {},
   "outputs": [
    {
     "name": "stdout",
     "output_type": "stream",
     "text": [
      "0 1\n",
      "8 9\n",
      "Minimum is 0\n",
      "Index of 0 in 8x8 matrix is a[0][0]\n",
      "\n",
      "2 3\n",
      "10 11\n",
      "Minimum is 2\n",
      "Index of 2 in 8x8 matrix is a[0][2]\n",
      "\n",
      "4 5\n",
      "12 13\n",
      "Minimum is 4\n",
      "Index of 4 in 8x8 matrix is a[0][4]\n",
      "\n",
      "6 7\n",
      "14 15\n",
      "Minimum is 6\n",
      "Index of 6 in 8x8 matrix is a[0][6]\n",
      "\n",
      "\n",
      "16 17\n",
      "24 25\n",
      "Minimum is 16\n",
      "Index of 16 in 8x8 matrix is a[2][0]\n",
      "\n",
      "18 19\n",
      "26 27\n",
      "Minimum is 18\n",
      "Index of 18 in 8x8 matrix is a[2][2]\n",
      "\n",
      "20 21\n",
      "28 29\n",
      "Minimum is 20\n",
      "Index of 20 in 8x8 matrix is a[2][4]\n",
      "\n",
      "22 23\n",
      "30 31\n",
      "Minimum is 22\n",
      "Index of 22 in 8x8 matrix is a[2][6]\n",
      "\n",
      "\n",
      "32 33\n",
      "40 41\n",
      "Minimum is 32\n",
      "Index of 32 in 8x8 matrix is a[4][0]\n",
      "\n",
      "34 35\n",
      "42 43\n",
      "Minimum is 34\n",
      "Index of 34 in 8x8 matrix is a[4][2]\n",
      "\n",
      "36 37\n",
      "44 45\n",
      "Minimum is 36\n",
      "Index of 36 in 8x8 matrix is a[4][4]\n",
      "\n",
      "38 39\n",
      "46 47\n",
      "Minimum is 38\n",
      "Index of 38 in 8x8 matrix is a[4][6]\n",
      "\n",
      "\n",
      "48 49\n",
      "56 57\n",
      "Minimum is 48\n",
      "Index of 48 in 8x8 matrix is a[6][0]\n",
      "\n",
      "50 51\n",
      "58 59\n",
      "Minimum is 50\n",
      "Index of 50 in 8x8 matrix is a[6][2]\n",
      "\n",
      "52 53\n",
      "60 61\n",
      "Minimum is 52\n",
      "Index of 52 in 8x8 matrix is a[6][4]\n",
      "\n",
      "54 55\n",
      "62 63\n",
      "Minimum is 54\n",
      "Index of 54 in 8x8 matrix is a[6][6]\n",
      "\n",
      "\n"
     ]
    }
   ],
   "source": [
    "for i in range(0,8,2):\n",
    "    for j in range(0,8,2):\n",
    "        print(a[i][j],a[i][j+1])\n",
    "        b.append(a[i][j])\n",
    "        b.append(a[i][j+1])\n",
    "        print(a[i+1][j],a[i+1][j+1])\n",
    "        b.append(a[i+1][j])\n",
    "        b.append(a[i+1][j+1])\n",
    "        b.sort()\n",
    "        print(f\"Minimum is {b[0]}\")\n",
    "        print(f\"Index of {b[0]} in 8x8 matrix is a{np.where(a==b[0])[0]}{np.where(a==b[0])[1]}\")\n",
    "        b=[]\n",
    "        count+=1\n",
    "        print()\n",
    "    print()\n"
   ]
  },
  {
   "cell_type": "code",
   "execution_count": 78,
   "metadata": {},
   "outputs": [
    {
     "data": {
      "text/plain": [
       "16"
      ]
     },
     "execution_count": 78,
     "metadata": {},
     "output_type": "execute_result"
    }
   ],
   "source": [
    "count"
   ]
  },
  {
   "cell_type": "code",
   "execution_count": null,
   "metadata": {},
   "outputs": [],
   "source": []
  }
 ],
 "metadata": {
  "kernelspec": {
   "display_name": "Python 3",
   "language": "python",
   "name": "python3"
  },
  "language_info": {
   "codemirror_mode": {
    "name": "ipython",
    "version": 3
   },
   "file_extension": ".py",
   "mimetype": "text/x-python",
   "name": "python",
   "nbconvert_exporter": "python",
   "pygments_lexer": "ipython3",
   "version": "3.7.4"
  }
 },
 "nbformat": 4,
 "nbformat_minor": 2
}
